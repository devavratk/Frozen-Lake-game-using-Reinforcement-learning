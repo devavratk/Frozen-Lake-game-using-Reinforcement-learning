{
 "cells": [
  {
   "cell_type": "code",
   "execution_count": 61,
   "metadata": {},
   "outputs": [],
   "source": [
    "import gym\n",
    "import numpy as np\n",
    "import random\n",
    "import time\n",
    "from IPython.display import clear_output"
   ]
  },
  {
   "cell_type": "code",
   "execution_count": 62,
   "metadata": {},
   "outputs": [],
   "source": [
    "env = gym.make(\"FrozenLake-v0\")"
   ]
  },
  {
   "cell_type": "code",
   "execution_count": 63,
   "metadata": {},
   "outputs": [],
   "source": [
    "x = env.observation_space.n\n",
    "y = env.action_space.n\n",
    "q_table = np.zeros((x,y))"
   ]
  },
  {
   "cell_type": "markdown",
   "metadata": {},
   "source": [
    "Assaigning the values of constants which we will be using for our Q-learning model"
   ]
  },
  {
   "cell_type": "code",
   "execution_count": 64,
   "metadata": {},
   "outputs": [],
   "source": [
    "num_epi = 10000\n",
    "max_steps = 100\n",
    "\n",
    "learning_rate = 0.1\n",
    "discount_rate = 0.99\n",
    "\n",
    "exploration_rate = 1\n",
    "max_exploration_rate = 1\n",
    "min_exploration_rate = 0.01\n",
    "exploration_rate_decay = 0.001\n",
    "rewards_of_epis = []"
   ]
  },
  {
   "cell_type": "code",
   "execution_count": 65,
   "metadata": {},
   "outputs": [],
   "source": [
    "for itr in range(num_epi):\n",
    "#     Must step before starting any episode, i.e. to reset the environment\n",
    "    state = env.reset()\n",
    "    done = False\n",
    "    epi_reward = 0\n",
    "    \n",
    "    for steps in range(max_steps):\n",
    "#         Generate a random number for testing\n",
    "        randomInt = random.uniform(0, 1)\n",
    "        \n",
    "#         We check if we want to explore or exploit the recent state knowledge by this condition\n",
    "        if randomInt > exploration_rate:\n",
    "#         Choose the best direction to move according to state value\n",
    "            action = np.argmax(q_table[state,:])\n",
    "        else:\n",
    "#             Randomly pick direcion to explore\n",
    "            action = env.action_space.sample()\n",
    "        \n",
    "#         Run the action\n",
    "        newstate, reward, done, info = env.step(action)\n",
    "        \n",
    "#         Modify the value of current state according to new action reward pair result\n",
    "        q_table[state, action] = (1 - learning_rate) * q_table[state, action] + \\\n",
    "                            learning_rate * (reward + discount_rate * np.max(q_table[newstate,:]))\n",
    "    \n",
    "        state = newstate\n",
    "        epi_reward += reward\n",
    "        \n",
    "#         If we fell in Ice or reached goal, stop\n",
    "        if done:\n",
    "            break\n",
    "\n",
    "#     Reduce the value of exploration rate after every episode\n",
    "    exploration_rate = min_exploration_rate + (max_exploration_rate - min_exploration_rate) * \\\n",
    "                        np.exp(- itr * exploration_rate_decay)\n",
    "    \n",
    "#     Append results in the rewards array for the whole episode\n",
    "    rewards_of_epis.append(epi_reward)"
   ]
  },
  {
   "cell_type": "markdown",
   "metadata": {},
   "source": [
    "Lets check the results of the learning model.\n",
    "We will test rewards in groups of 1000 iterations"
   ]
  },
  {
   "cell_type": "code",
   "execution_count": 66,
   "metadata": {},
   "outputs": [
    {
     "name": "stdout",
     "output_type": "stream",
     "text": [
      "Score for the 0th iteration:0.05\n",
      "Score for the 1th iteration:0.203\n",
      "Score for the 2th iteration:0.395\n",
      "Score for the 3th iteration:0.537\n",
      "Score for the 4th iteration:0.627\n",
      "Score for the 5th iteration:0.662\n",
      "Score for the 6th iteration:0.668\n",
      "Score for the 7th iteration:0.656\n",
      "Score for the 8th iteration:0.668\n",
      "Score for the 9th iteration:0.675\n"
     ]
    }
   ],
   "source": [
    "# Divided the reward array in more simple form\n",
    "reward_per_thousand_samples = np.split(np.array(rewards_of_epis), len(rewards_of_epis)/1000)\n",
    "\n",
    "for i in range(len(reward_per_thousand_samples)):\n",
    "    print(\"Score for the {}th iteration:{}\".format(i, np.sum(reward_per_thousand_samples[i])/1000))"
   ]
  }
 ],
 "metadata": {
  "kernelspec": {
   "display_name": "Python 3",
   "language": "python",
   "name": "python3"
  },
  "language_info": {
   "codemirror_mode": {
    "name": "ipython",
    "version": 3
   },
   "file_extension": ".py",
   "mimetype": "text/x-python",
   "name": "python",
   "nbconvert_exporter": "python",
   "pygments_lexer": "ipython3",
   "version": "3.7.1"
  }
 },
 "nbformat": 4,
 "nbformat_minor": 2
}
